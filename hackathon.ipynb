{
 "cells": [
  {
   "cell_type": "markdown",
   "id": "c7cfe687-6d92-4d14-addc-259693bea23a",
   "metadata": {},
   "source": [
    "\n",
    "# Readmission Prediction Project\n",
    "\n",
    "## Objective:\n",
    "This project aims to predict patient readmission within 30 days using hospital admission records, diagnoses, lab results, and patient demographics.\n",
    "\n",
    "## Steps Performed:\n",
    "\n",
    "1. **Data Loading**  \n",
    "   - Imported multiple datasets, including admissions, diagnoses, lab events, and patient details.\n",
    "\n",
    "2. **Data Preprocessing & Cleaning**  \n",
    "   - Identified heart failure patients using ICD-9 codes.  \n",
    "   - Merged datasets to create a comprehensive feature set.  \n",
    "   - Processed lab events by computing the average value per patient.  \n",
    "   - Dropped missing values and removed outliers using the IQR method.\n",
    "\n",
    "3. **Feature Engineering**  \n",
    "   - Derived the `readmitted` target variable based on discharge and admission times.  \n",
    "   - Selected relevant features, including admission type, insurance, marital status, ethnicity, heart failure status, and lab values.  \n",
    "   - Encoded categorical variables using `LabelEncoder`.\n",
    "\n",
    "4. **Handling Class Imbalance**  \n",
    "   - Applied **downsampling** to balance the dataset, ensuring equal representation of readmitted and non-readmitted patients.\n",
    "\n",
    "5. **Model Training & Evaluation**  \n",
    "   - Standardized numerical features using `StandardScaler`.  \n",
    "   - Trained a **Random Forest Classifier** with optimized hyperparameters.  \n",
    "   - Evaluated performance using accuracy, classification report, and confusion matrix.\n",
    "\n",
    "6. **Feature Importance Analysis**  \n",
    "   - Examined feature importance to understand which variables contribute most to readmission prediction.\n",
    "\n",
    "7. **Manual Testing for New Patients**  \n",
    "   - Implemented a function to test a new patient’s data and predict their likelihood of readmission.\n",
    "\n",
    "## Observations:\n",
    "- Certain features, like heart failure, had low importance, possibly due to correlation with other variables or data imbalances.\n",
    "- The model’s performance can be further improved by feature selection and alternative machine learning algorithms.\n",
    "\n",
    "# End \n"
   ]
  },
  {
   "cell_type": "markdown",
   "id": "a2cd74db-7d50-4db2-8b38-b70b1652df78",
   "metadata": {},
   "source": [
    "### Importing essential libraries\n",
    "### Loading Dataset"
   ]
  },
  {
   "cell_type": "code",
   "execution_count": 4,
   "id": "22b487db-739b-4190-8887-37bd1daaf11e",
   "metadata": {},
   "outputs": [
    {
     "name": "stdout",
     "output_type": "stream",
     "text": [
      "Warning: micropip module not found. Please check your environment setup.\n",
      "Loading datasets...\n"
     ]
    },
    {
     "name": "stderr",
     "output_type": "stream",
     "text": [
      "C:\\Users\\DELL\\AppData\\Local\\Temp\\ipykernel_24204\\3890968758.py:23: DtypeWarning: Columns (4,5,7,11) have mixed types. Specify dtype option on import or set low_memory=False.\n",
      "  cptevents = pd.read_csv(\"D:/readmission/cptevents_202208161605.csv\")\n"
     ]
    }
   ],
   "source": [
    "import pandas as pd\n",
    "import numpy as np\n",
    "import matplotlib.pyplot as plt\n",
    "import seaborn as sns\n",
    "from sklearn.model_selection import train_test_split, GridSearchCV\n",
    "from sklearn.preprocessing import StandardScaler, LabelEncoder\n",
    "from sklearn.ensemble import RandomForestClassifier\n",
    "from sklearn.metrics import accuracy_score, classification_report, confusion_matrix\n",
    "from imblearn.over_sampling import SMOTE\n",
    "\n",
    "\n",
    "# Ensure all necessary libraries are installed\n",
    "try:\n",
    "    import micropip\n",
    "except ModuleNotFoundError:\n",
    "    print(\"Warning: micropip module not found. Please check your environment setup.\")\n",
    "\n",
    "# Load datasets\n",
    "print(\"Loading datasets...\")\n",
    "admissions = pd.read_csv(\"D:/readmission/admissions_202208161605.csv\")\n",
    "diagnoses = pd.read_csv(\"D:/readmission/diagnoses_icd_202208161605.csv\")\n",
    "drgs = pd.read_csv(\"D:/readmission/drgcodes_202208161605.csv\")\n",
    "cptevents = pd.read_csv(\"D:/readmission/cptevents_202208161605.csv\")\n",
    "labitems = pd.read_csv(\"D:/readmission/d_labitems_202208161605.csv\")\n",
    "labevents = pd.read_csv(\"D:/readmission/labevents_202208161605.csv\")\n",
    "patients = pd.read_csv(\"D:/readmission/patients_202208161605.csv\")\n",
    "procedures_icd = pd.read_csv(\"D:/readmission/procedures_icd_202208161605.csv\")"
   ]
  },
  {
   "cell_type": "code",
   "execution_count": 6,
   "id": "93325f5f-0a56-4362-8290-a569046d2ce1",
   "metadata": {},
   "outputs": [
    {
     "name": "stdout",
     "output_type": "stream",
     "text": [
      "Identifying heart failure patients based on diagnosis codes...\n",
      "Processing lab events data...\n"
     ]
    }
   ],
   "source": [
    "# Identifying Heart Failure Patients\n",
    "print(\"Identifying heart failure patients based on diagnosis codes...\")\n",
    "heart_failure_codes = ['39891','40201','40211','40291','40401','40403','40411','40413','40491','40493',\n",
    "                       '4280','4281','42820','42821','42822','42823','42830','42831','42832','42833',\n",
    "                       '42840','42841','42842','42843','4289']\n",
    "diagnoses['heart_failure'] = diagnoses['icd9_code'].astype(str).isin(heart_failure_codes).astype(int)\n",
    "\n",
    "# Processing Lab Events Data\n",
    "print(\"Processing lab events data...\")\n",
    "labevents['charttime'] = pd.to_datetime(labevents['charttime'], errors='coerce')\n",
    "important_labs = labevents.groupby('hadm_id')['valuenum'].mean().reset_index()\n",
    "important_labs.rename(columns={'valuenum': 'avg_lab_value'}, inplace=True)\n",
    "\n",
    "\n"
   ]
  },
  {
   "cell_type": "markdown",
   "id": "fdd72523-9151-4352-9e7e-3f259ab287ea",
   "metadata": {},
   "source": [
    "### Merging different datasets\n",
    "### Selecting Main features "
   ]
  },
  {
   "cell_type": "code",
   "execution_count": 8,
   "id": "f7e1d40f-c22e-4bcd-8ed5-470f917bbffa",
   "metadata": {},
   "outputs": [
    {
     "name": "stdout",
     "output_type": "stream",
     "text": [
      "Performing feature engineering...\n",
      "Merging datasets...\n",
      "Columns in df after merging: Index(['hadm_id', 'admittime', 'dischtime', 'admission_type', 'insurance',\n",
      "       'marital_status', 'ethnicity', 'row_id_x', 'subject_id_x', 'seq_num_x',\n",
      "       'icd9_code_x', 'heart_failure', 'avg_lab_value', 'row_id_y',\n",
      "       'subject_id_y', 'seq_num_y', 'icd9_code_y'],\n",
      "      dtype='object')\n",
      "Shape of df after feature selection and dropping NaNs: (3250116, 17)\n",
      "First few rows of df:\n",
      "    hadm_id                admittime                dischtime admission_type  \\\n",
      "0   165315  2196-04-09 12:26:00.000  2196-04-10 15:54:00.000      EMERGENCY   \n",
      "1   165315  2196-04-09 12:26:00.000  2196-04-10 15:54:00.000      EMERGENCY   \n",
      "2   165315  2196-04-09 12:26:00.000  2196-04-10 15:54:00.000      EMERGENCY   \n",
      "3   165315  2196-04-09 12:26:00.000  2196-04-10 15:54:00.000      EMERGENCY   \n",
      "4   165315  2196-04-09 12:26:00.000  2196-04-10 15:54:00.000      EMERGENCY   \n",
      "\n",
      "  insurance marital_status ethnicity  row_id_x  subject_id_x  seq_num_x  \\\n",
      "0   Private        MARRIED     WHITE       151            22        1.0   \n",
      "1   Private        MARRIED     WHITE       151            22        1.0   \n",
      "2   Private        MARRIED     WHITE       151            22        1.0   \n",
      "3   Private        MARRIED     WHITE       152            22        2.0   \n",
      "4   Private        MARRIED     WHITE       152            22        2.0   \n",
      "\n",
      "  icd9_code_x  heart_failure  avg_lab_value  row_id_y  subject_id_y  \\\n",
      "0        9678              0      35.415351    9894.0          22.0   \n",
      "1        9678              0      35.415351    9895.0          22.0   \n",
      "2        9678              0      35.415351    9896.0          22.0   \n",
      "3        9693              0      35.415351    9894.0          22.0   \n",
      "4        9693              0      35.415351    9895.0          22.0   \n",
      "\n",
      "   seq_num_y  icd9_code_y  \n",
      "0        1.0       9604.0  \n",
      "1        2.0       9671.0  \n",
      "2        3.0       9634.0  \n",
      "3        1.0       9604.0  \n",
      "4        2.0       9671.0  \n",
      "Sample data:\n",
      "    hadm_id                admittime                dischtime admission_type  \\\n",
      "0   165315  2196-04-09 12:26:00.000  2196-04-10 15:54:00.000      EMERGENCY   \n",
      "1   165315  2196-04-09 12:26:00.000  2196-04-10 15:54:00.000      EMERGENCY   \n",
      "2   165315  2196-04-09 12:26:00.000  2196-04-10 15:54:00.000      EMERGENCY   \n",
      "3   165315  2196-04-09 12:26:00.000  2196-04-10 15:54:00.000      EMERGENCY   \n",
      "4   165315  2196-04-09 12:26:00.000  2196-04-10 15:54:00.000      EMERGENCY   \n",
      "\n",
      "  insurance marital_status ethnicity  row_id_x  subject_id_x  seq_num_x  \\\n",
      "0   Private        MARRIED     WHITE       151            22        1.0   \n",
      "1   Private        MARRIED     WHITE       151            22        1.0   \n",
      "2   Private        MARRIED     WHITE       151            22        1.0   \n",
      "3   Private        MARRIED     WHITE       152            22        2.0   \n",
      "4   Private        MARRIED     WHITE       152            22        2.0   \n",
      "\n",
      "  icd9_code_x  heart_failure  avg_lab_value  row_id_y  subject_id_y  \\\n",
      "0        9678              0      35.415351    9894.0          22.0   \n",
      "1        9678              0      35.415351    9895.0          22.0   \n",
      "2        9678              0      35.415351    9896.0          22.0   \n",
      "3        9693              0      35.415351    9894.0          22.0   \n",
      "4        9693              0      35.415351    9895.0          22.0   \n",
      "\n",
      "   seq_num_y  icd9_code_y  \n",
      "0        1.0       9604.0  \n",
      "1        2.0       9671.0  \n",
      "2        3.0       9634.0  \n",
      "3        1.0       9604.0  \n",
      "4        2.0       9671.0  \n",
      "Missing values per column:\n",
      " hadm_id                0\n",
      "admittime              0\n",
      "dischtime              0\n",
      "admission_type         0\n",
      "insurance              0\n",
      "marital_status    299381\n",
      "ethnicity              0\n",
      "row_id_x               0\n",
      "subject_id_x           0\n",
      "seq_num_x             47\n",
      "icd9_code_x           47\n",
      "heart_failure          0\n",
      "avg_lab_value      74272\n",
      "row_id_y           65486\n",
      "subject_id_y       65486\n",
      "seq_num_y          65486\n",
      "icd9_code_y        65486\n",
      "dtype: int64\n",
      "Index(['hadm_id', 'admittime', 'dischtime', 'admission_type', 'insurance',\n",
      "       'marital_status', 'ethnicity', 'row_id_x', 'subject_id_x', 'seq_num_x',\n",
      "       'icd9_code_x', 'heart_failure', 'avg_lab_value', 'row_id_y',\n",
      "       'subject_id_y', 'seq_num_y', 'icd9_code_y', 'readmitted'],\n",
      "      dtype='object')\n",
      "            dischtime           admittime\n",
      "0 2196-04-10 15:54:00 2196-04-09 12:26:00\n",
      "1 2196-04-10 15:54:00 2196-04-09 12:26:00\n",
      "2 2196-04-10 15:54:00 2196-04-09 12:26:00\n",
      "3 2196-04-10 15:54:00 2196-04-09 12:26:00\n",
      "4 2196-04-10 15:54:00 2196-04-09 12:26:00\n",
      "Missing values per column before dropna:\n",
      " admission_type    0\n",
      "insurance         0\n",
      "marital_status    0\n",
      "ethnicity         0\n",
      "heart_failure     0\n",
      "readmitted        0\n",
      "dtype: int64\n",
      "Shape after dropna: (3250116, 6)\n",
      "        admission_type insurance marital_status              ethnicity  \\\n",
      "1215542      EMERGENCY  Medicare        MARRIED                  WHITE   \n",
      "3223974       ELECTIVE   Private        MARRIED                  WHITE   \n",
      "1391909        NEWBORN   Private        UNKNOWN  UNKNOWN/NOT SPECIFIED   \n",
      "1484962       ELECTIVE  Medicare        MARRIED                  WHITE   \n",
      "2275046       ELECTIVE  Medicare        MARRIED                  WHITE   \n",
      "...                ...       ...            ...                    ...   \n",
      "2272798       ELECTIVE  Medicare        MARRIED                  WHITE   \n",
      "1780386      EMERGENCY  Medicare       DIVORCED     HISPANIC OR LATINO   \n",
      "3004208      EMERGENCY   Private         SINGLE                  WHITE   \n",
      "386976       EMERGENCY  Medicaid         SINGLE                  WHITE   \n",
      "1687270      EMERGENCY  Medicare        MARRIED                  WHITE   \n",
      "\n",
      "         heart_failure  readmitted  \n",
      "1215542              0           1  \n",
      "3223974              0           1  \n",
      "1391909              0           1  \n",
      "1484962              0           1  \n",
      "2275046              0           1  \n",
      "...                ...         ...  \n",
      "2272798              0           1  \n",
      "1780386              0           1  \n",
      "3004208              0           1  \n",
      "386976               0           1  \n",
      "1687270              0           0  \n",
      "\n",
      "[50000 rows x 6 columns]\n"
     ]
    }
   ],
   "source": [
    "\n",
    "# Feature Engineering\n",
    "print(\"Performing feature engineering...\")\n",
    "# Convert to datetime\n",
    "# Convert to datetime in the admissions dataframe\n",
    "# Merging Data\n",
    "print(\"Merging datasets...\")\n",
    "df = admissions[['hadm_id', 'admittime', 'dischtime', 'admission_type', 'insurance', 'marital_status', 'ethnicity']] \\\n",
    "        .merge(diagnoses, on='hadm_id', how='left')\n",
    "\n",
    "df = df.merge(important_labs, on='hadm_id', how='left')  # Adding lab results\n",
    "df = df.merge(patients['subject_id'], on='subject_id', how='left')  # Adding patient data\n",
    "df = df.merge(procedures_icd, on='hadm_id', how='left')  # Adding procedure data\n",
    "\n",
    "\n",
    "\n",
    "print(\"Columns in df after merging:\", df.columns)\n",
    "print(\"Shape of df after feature selection and dropping NaNs:\", df.shape)\n",
    "print(\"First few rows of df:\\n\", df.head())\n",
    "\n",
    "print(\"Sample data:\\n\", df.head())\n",
    "print(\"Missing values per column:\\n\", df.isnull().sum())\n",
    "\n",
    "\n",
    "# Convert to datetime\n",
    "df['admittime'] = pd.to_datetime(df['admittime'])\n",
    "df['dischtime'] = pd.to_datetime(df['dischtime'])\n",
    "\n",
    "# Compute readmission\n",
    "df['readmitted'] = ((df['dischtime'] - df['admittime']).dt.days <= 30).astype(int)\n",
    "\n",
    "# Check if dischtime and admittime exist in df\n",
    "print(df.columns)  # Verify that 'dischtime' and 'admittime' are in the dataframe\n",
    "print(df[['dischtime', 'admittime']].head())  # Check the first few rows\n",
    "\n",
    "# Compute readmission after ensuring the columns exist\n",
    "if 'dischtime' in df.columns and 'admittime' in df.columns:\n",
    "    df['readmitted'] = ((df['dischtime'] - df['admittime']).dt.days <= 30).astype(int)\n",
    "else:\n",
    "    print(\"Error: 'dischtime' or 'admittime' is missing from df.\")\n",
    "\n",
    "\n",
    "\n",
    "df = df.drop(columns=['avg_lab_value'])\n",
    "df['marital_status'] = df['marital_status'].fillna('UNKNOWN')\n",
    "\n",
    "\n",
    "# Selecting Features for Prediction\n",
    "features = ['admission_type', 'insurance', 'marital_status', 'ethnicity', 'heart_failure']\n",
    "df = df[features + ['readmitted']]\n",
    "print(\"Missing values per column before dropna:\\n\", df.isnull().sum())\n",
    "df = df.dropna()\n",
    "print(\"Shape after dropna:\", df.shape)\n",
    "\n",
    "df_sampled = df.sample(n=50000, random_state=42)  # Adjust the sample size as needed\n",
    "\n",
    "print(df_sampled)\n",
    "\n",
    "\n",
    "\n",
    "\n",
    "\n",
    "\n"
   ]
  },
  {
   "cell_type": "markdown",
   "id": "5152f356-87d0-49ba-a7d6-2006c2e3878b",
   "metadata": {},
   "source": [
    "### Encoding for Numerical purpose\n",
    "### Splitting For training and test purpose "
   ]
  },
  {
   "cell_type": "code",
   "execution_count": 10,
   "id": "453f0f47-a0c4-4962-a175-cdc95a46bd99",
   "metadata": {},
   "outputs": [
    {
     "name": "stdout",
     "output_type": "stream",
     "text": [
      "Encoding categorical features...\n",
      "Splitting dataset into training and testing sets...\n"
     ]
    }
   ],
   "source": [
    "# Encoding Categorical Variables\n",
    "print(\"Encoding categorical features...\")\n",
    "label_encoders = {}\n",
    "for col in ['admission_type', 'insurance', 'marital_status', 'ethnicity']:\n",
    "    le = LabelEncoder()\n",
    "    df_sampled[col] = le.fit_transform(df_sampled[col])\n",
    "    label_encoders[col] = le\n",
    "\n",
    "# Splitting Data into Training and Testing Sets\n",
    "print(\"Splitting dataset into training and testing sets...\")\n",
    "X = df_sampled.drop(columns=['readmitted'])\n",
    "y = df_sampled['readmitted']\n",
    "\n",
    "X_train, X_test, y_train, y_test = train_test_split(X, y, test_size=0.1, random_state=42)"
   ]
  },
  {
   "cell_type": "code",
   "execution_count": 12,
   "id": "850c75ef-a89d-4394-97ed-6918413c0820",
   "metadata": {},
   "outputs": [],
   "source": [
    "from sklearn.utils import resample"
   ]
  },
  {
   "cell_type": "markdown",
   "id": "5dcdc589-2594-447f-97b2-7b30f2d078b3",
   "metadata": {},
   "source": [
    "### Model Performance steps\n"
   ]
  },
  {
   "cell_type": "code",
   "execution_count": 22,
   "id": "8189bdee-9e43-49e4-beb8-a1e65659c4bc",
   "metadata": {},
   "outputs": [
    {
     "name": "stdout",
     "output_type": "stream",
     "text": [
      "Applying downsampling to balance the dataset...\n",
      "Standardizing features...\n",
      "Optimizing Random Forest Classifier using GridSearchCV...\n",
      "Fitting 5 folds for each of 27 candidates, totalling 135 fits\n",
      "Evaluating model performance...\n",
      "Model Accuracy: 0.83\n",
      "Classification Report:\n",
      "               precision    recall  f1-score   support\n",
      "\n",
      "           0       0.57      0.08      0.14      1686\n",
      "           1       0.84      0.99      0.91      8314\n",
      "\n",
      "    accuracy                           0.83     10000\n",
      "   macro avg       0.71      0.53      0.52     10000\n",
      "weighted avg       0.80      0.83      0.78     10000\n",
      "\n"
     ]
    },
    {
     "data": {
      "image/png": "[encoded data removed]",
      "text/plain": [
       "<Figure size 1000x600 with 1 Axes>"
      ]
     },
     "metadata": {},
     "output_type": "display_data"
    },
    {
     "name": "stdout",
     "output_type": "stream",
     "text": [
      "Generating confusion matrix heatmap...\n"
     ]
    },
    {
     "data": {
      "image/png": "[encoded data removed]",
      "text/plain": [
       "<Figure size 640x480 with 2 Axes>"
      ]
     },
     "metadata": {},
     "output_type": "display_data"
    },
    {
     "name": "stdout",
     "output_type": "stream",
     "text": [
      "Process completed successfully!\n"
     ]
    }
   ],
   "source": [
    "\n",
    "# Handling Class Imbalance with Downsampling\n",
    "print(\"Applying downsampling to balance the dataset...\")\n",
    "df_train = pd.concat([X_train, y_train], axis=1)\n",
    "df_majority = df_train[df_train['readmitted'] == 0]\n",
    "df_minority = df_train[df_train['readmitted'] == 1]\n",
    "n_samples = min(len(df_majority), len(df_minority))\n",
    "df_majority_downsampled = resample(df_majority, replace=False, n_samples=n_samples, random_state=42)\n",
    "\n",
    "df_balanced = pd.concat([df_majority_downsampled, df_minority])\n",
    "X_train = df_balanced.drop(columns=['readmitted'])\n",
    "y_train = df_balanced['readmitted']\n",
    "\n",
    "# Standardizing Features\n",
    "print(\"Standardizing features...\")\n",
    "scaler = StandardScaler()\n",
    "X_train_scaled = scaler.fit_transform(X_train)\n",
    "X_test_scaled = scaler.transform(X_test)\n",
    "\n",
    "# Hyperparameter Tuning using GridSearchCV\n",
    "print(\"Optimizing Random Forest Classifier using GridSearchCV...\")\n",
    "param_grid = {\n",
    "    'n_estimators': [50, 100, 200],\n",
    "    'max_depth': [10, 20, None],\n",
    "    'min_samples_split': [2, 5, 10]\n",
    "}\n",
    "grid_search = GridSearchCV(RandomForestClassifier(random_state=42), param_grid, cv=5, n_jobs=-1, verbose=1)\n",
    "grid_search.fit(X_train_scaled, y_train)\n",
    "\n",
    "# Best Model Selection\n",
    "rf_model = grid_search.best_estimator_\n",
    "\n",
    "# Making Predictions\n",
    "y_pred = rf_model.predict(X_test_scaled)\n",
    "\n",
    "# Model Evaluation\n",
    "print(\"Evaluating model performance...\")\n",
    "accuracy = accuracy_score(y_test, y_pred)\n",
    "print(f\"Model Accuracy: {accuracy:.2f}\")\n",
    "print(\"Classification Report:\\n\", classification_report(y_test, y_pred))\n",
    "\n",
    "# Visualizing Feature Importance\n",
    "feature_importances = rf_model.feature_importances_\n",
    "feature_names = X.columns\n",
    "plt.figure(figsize=(10, 6))\n",
    "sns.barplot(x=feature_importances, y=feature_names)\n",
    "plt.title(\"Feature Importance\")\n",
    "plt.xlabel(\"Importance\")\n",
    "plt.ylabel(\"Feature\")\n",
    "plt.show()\n",
    "\n",
    "# Visualizing Results\n",
    "print(\"Generating confusion matrix heatmap...\")\n",
    "sns.heatmap(confusion_matrix(y_test, y_pred), annot=True, fmt='d', cmap=\"YlGnBu\")\n",
    "plt.title(\"Confusion Matrix\")\n",
    "plt.xlabel(\"Predicted\")\n",
    "plt.ylabel(\"Actual\")\n",
    "plt.show()\n",
    "\n",
    "print(\"Process completed successfully!\")\n",
    "\n"
   ]
  },
  {
   "cell_type": "markdown",
   "id": "ba415c40-0aee-4a52-bf29-d29c4ef971d4",
   "metadata": {},
   "source": [
    "### Manual Testing for a New Patient"
   ]
  },
  {
   "cell_type": "code",
   "execution_count": 17,
   "id": "0b5670d1-8f1c-41fd-ba8d-c01414634b1f",
   "metadata": {},
   "outputs": [
    {
     "name": "stdout",
     "output_type": "stream",
     "text": [
      "Performing manual testing...\n",
      "Predicted outcome for the new patient: Readmitted\n",
      "Process completed successfully!\n"
     ]
    }
   ],
   "source": [
    "\n",
    "print(\"Performing manual testing...\")\n",
    "def predict_new_patient(patient_data):\n",
    "    patient_df = pd.DataFrame([patient_data])\n",
    "    for col in ['admission_type', 'insurance', 'marital_status', 'ethnicity']:\n",
    "        patient_df[col] = label_encoders[col].transform(patient_df[col])\n",
    "    patient_scaled = scaler.transform(patient_df)\n",
    "    prediction = rf_model.predict(patient_scaled)\n",
    "    return \"Readmitted\" if prediction[0] == 1 else \"Not Readmitted\"\n",
    "\n",
    "# Example patient data\n",
    "new_patient = {\n",
    "    'admission_type': 'EMERGENCY',\n",
    "    'insurance': 'Medicare',\n",
    "    'marital_status': 'MARRIED',\n",
    "    'ethnicity': 'WHITE',\n",
    "    'heart_failure': 1,\n",
    "}\n",
    "\n",
    "# Predicting readmission for the new patient\n",
    "print(\"Predicted outcome for the new patient:\", predict_new_patient(new_patient))\n",
    "\n",
    "print(\"Process completed successfully!\")\n"
   ]
  },
  {
   "cell_type": "code",
   "execution_count": null,
   "id": "141653a7-d5d2-4421-be17-3b75e39c173a",
   "metadata": {},
   "outputs": [],
   "source": []
  }
 ],
 "metadata": {
  "kernelspec": {
   "display_name": "Python [conda env:base] *",
   "language": "python",
   "name": "conda-base-py"
  },
  "language_info": {
   "codemirror_mode": {
    "name": "ipython",
    "version": 3
   },
   "file_extension": ".py",
   "mimetype": "text/x-python",
   "name": "python",
   "nbconvert_exporter": "python",
   "pygments_lexer": "ipython3",
   "version": "3.12.7"
  }
 },
 "nbformat": 4,
 "nbformat_minor": 5
}
